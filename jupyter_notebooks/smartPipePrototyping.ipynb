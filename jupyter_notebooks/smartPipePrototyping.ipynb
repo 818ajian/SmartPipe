{
 "cells": [
  {
   "cell_type": "code",
   "execution_count": 6,
   "metadata": {},
   "outputs": [],
   "source": [
    "import numpy as np\n",
    "import keras\n",
    "from keras.models import Sequential\n",
    "from keras.layers import Conv2D, MaxPooling2D, Dense, Flatten, Dropout, BatchNormalization\n",
    "import matplotlib as plt\n",
    "from keras.preprocessing.image import ImageDataGenerator"
   ]
  },
  {
   "cell_type": "code",
   "execution_count": 7,
   "metadata": {},
   "outputs": [
    {
     "name": "stdout",
     "output_type": "stream",
     "text": [
      "Found 1071 images belonging to 2 classes.\n",
      "Found 80 images belonging to 2 classes.\n",
      "<keras.preprocessing.image.DirectoryIterator object at 0x7f3368248828>\n",
      "<keras.preprocessing.image.DirectoryIterator object at 0x7f3368248828>\n"
     ]
    }
   ],
   "source": [
    "train_datagen = ImageDataGenerator(rescale = 1./255-0.5,\n",
    "                                   shear_range = 0.2,\n",
    "                                   zoom_range = 0.2,\n",
    "                                   horizontal_flip = True)\n",
    "\n",
    "test_datagen = ImageDataGenerator(rescale = 1./255-0.5)\n",
    "\n",
    "train_set = train_datagen.flow_from_directory('../images/train',\n",
    "                                                 target_size = (240, 320), #Tamano de la imagen\n",
    "                                                 batch_size = 32,\n",
    "                                                 class_mode = 'binary')\n",
    "\n",
    "test_set = test_datagen.flow_from_directory('../images/test',\n",
    "                                            target_size = (240, 320), #Tamano de la imagen\n",
    "                                            batch_size = 32,\n",
    "                                            class_mode = 'binary')\n",
    "print(train_set) # (60000, 28, 28)\n",
    "print(train_set) # (60000,)\n"
   ]
  },
  {
   "cell_type": "code",
   "execution_count": 8,
   "metadata": {},
   "outputs": [
    {
     "name": "stdout",
     "output_type": "stream",
     "text": [
      "Model: \"sequential_2\"\n",
      "_________________________________________________________________\n",
      "Layer (type)                 Output Shape              Param #   \n",
      "=================================================================\n",
      "conv2d_3 (Conv2D)            (None, 238, 318, 4)       112       \n",
      "_________________________________________________________________\n",
      "dropout_3 (Dropout)          (None, 238, 318, 4)       0         \n",
      "_________________________________________________________________\n",
      "max_pooling2d_3 (MaxPooling2 (None, 119, 159, 4)       0         \n",
      "_________________________________________________________________\n",
      "batch_normalization_3 (Batch (None, 119, 159, 4)       16        \n",
      "_________________________________________________________________\n",
      "conv2d_4 (Conv2D)            (None, 117, 157, 8)       296       \n",
      "_________________________________________________________________\n",
      "dropout_4 (Dropout)          (None, 117, 157, 8)       0         \n",
      "_________________________________________________________________\n",
      "max_pooling2d_4 (MaxPooling2 (None, 58, 78, 8)         0         \n",
      "_________________________________________________________________\n",
      "batch_normalization_4 (Batch (None, 58, 78, 8)         32        \n",
      "_________________________________________________________________\n",
      "flatten_2 (Flatten)          (None, 36192)             0         \n",
      "_________________________________________________________________\n",
      "dense_4 (Dense)              (None, 2400)              86863200  \n",
      "_________________________________________________________________\n",
      "dense_5 (Dense)              (None, 32)                76832     \n",
      "_________________________________________________________________\n",
      "dense_6 (Dense)              (None, 1)                 33        \n",
      "=================================================================\n",
      "Total params: 86,940,521\n",
      "Trainable params: 86,940,497\n",
      "Non-trainable params: 24\n",
      "_________________________________________________________________\n"
     ]
    }
   ],
   "source": [
    "# Initialising the CNN\n",
    "classifier = Sequential()\n",
    "\n",
    "#  Conv-Pool structure 1\n",
    "classifier.add(Conv2D(4, (3, 3), input_shape = (240, 320,3), activation = 'relu'))\n",
    "classifier.add(Dropout(0.2))\n",
    "classifier.add(MaxPooling2D(pool_size = (2, 2)))\n",
    "classifier.add(BatchNormalization(axis=-1, momentum=0.99, epsilon=0.001, center=True, scale=True, beta_initializer='zeros', gamma_initializer='ones', moving_mean_initializer='zeros', moving_variance_initializer='ones', beta_regularizer=None, gamma_regularizer=None, beta_constraint=None, gamma_constraint=None))\n",
    "\n",
    "# Conv-Pool structure 2\n",
    "classifier.add(Conv2D(8, (3, 3), activation = 'relu'))\n",
    "classifier.add(Dropout(0.2))\n",
    "classifier.add(MaxPooling2D(pool_size = (2, 2)))\n",
    "classifier.add(BatchNormalization(axis=-1, momentum=0.99, epsilon=0.001, center=True, scale=True, beta_initializer='zeros', gamma_initializer='ones', moving_mean_initializer='zeros', moving_variance_initializer='ones', beta_regularizer=None, gamma_regularizer=None, beta_constraint=None, gamma_constraint=None))\n",
    "\n",
    "classifier.add(Flatten())\n",
    "#Full connection\n",
    "classifier.add(Dense(units = 2400, activation = 'relu'))\n",
    "classifier.add(Dense(units = 32, activation = 'softmax'))\n",
    "classifier.add(Dense(units = 1, activation = 'sigmoid'))\n",
    "\n",
    "classifier.summary()\n",
    "\n",
    "# Compiling the CNN\n",
    "classifier.compile(optimizer = 'adam', loss = 'binary_crossentropy', metrics = ['accuracy'])\n"
   ]
  },
  {
   "cell_type": "code",
   "execution_count": null,
   "metadata": {},
   "outputs": [],
   "source": [
    "#classifier.fit(train_set, epochs=3, validation_data=(test_set))\n",
    "classifier.fit(train_set, epochs=3, validation_data=(test_set),verbose=0)"
   ]
  },
  {
   "cell_type": "code",
   "execution_count": null,
   "metadata": {},
   "outputs": [],
   "source": []
  }
 ],
 "metadata": {
  "kernelspec": {
   "display_name": "Python 3",
   "language": "python",
   "name": "python3"
  },
  "language_info": {
   "codemirror_mode": {
    "name": "ipython",
    "version": 3
   },
   "file_extension": ".py",
   "mimetype": "text/x-python",
   "name": "python",
   "nbconvert_exporter": "python",
   "pygments_lexer": "ipython3",
   "version": "3.5.2"
  }
 },
 "nbformat": 4,
 "nbformat_minor": 2
}